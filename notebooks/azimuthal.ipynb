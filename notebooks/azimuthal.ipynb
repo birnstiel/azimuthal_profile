{
 "cells": [
  {
   "cell_type": "markdown",
   "metadata": {},
   "source": [
    "## Azimuthal Dust Profiles"
   ]
  },
  {
   "cell_type": "code",
   "execution_count": null,
   "metadata": {},
   "outputs": [],
   "source": [
    "import numpy as np  \n",
    "import matplotlib.pyplot as plt  \n",
    "import astropy.constants as c  \n",
    "import astropy.units as u  \n",
    "%matplotlib inline\n",
    "\n",
    "au = c.au.cgs.value"
   ]
  },
  {
   "cell_type": "code",
   "execution_count": null,
   "metadata": {},
   "outputs": [],
   "source": [
    "import azimuthal_functions as az"
   ]
  },
  {
   "cell_type": "markdown",
   "metadata": {},
   "source": [
    "### Set up model parameters of a radial gas profile"
   ]
  },
  {
   "cell_type": "code",
   "execution_count": null,
   "metadata": {},
   "outputs": [],
   "source": [
    "na          = 100\n",
    "ny          = 400 \n",
    "A_gas       = 1.2    # gas density contrast (peak-to-valley)\n",
    "sigma_y_deg = 10     # azimuthal bump extent in degree\n",
    "d2g         = 1e-2\n",
    "alpha       = 1e-3\n",
    "v_frag      = 1000.\n",
    "rho_s       = 1.67\n",
    "M_star      = c.M_sun.cgs.value\n",
    "\n",
    "\n",
    "sigma_y = sigma_y_deg / 180 * np.pi\n",
    "r       = np.array([30 * au])                # radial grid\n",
    "Y       = r[:, None] * np.linspace(- np.pi, np.pi, ny)  # azimuth grid\n",
    "A       = np.logspace(-4, 0, na)             # particle size grid\n",
    "sig_g   = 200 / (r / au)                     # avg. gas surface density\n",
    "sig_d   = d2g * sig_g\n",
    "T       = 200 * (r / au)**-0.5\n",
    "\n",
    "sig_g_2D = 1 + (A_gas - 1) * np.exp(- Y**2 / (2 * (r * sigma_y))**2)\n",
    "sig_g_2D *= sig_g / sig_g_2D.mean()"
   ]
  },
  {
   "cell_type": "markdown",
   "metadata": {},
   "source": [
    "### Get the equilibrium dust distribution"
   ]
  },
  {
   "cell_type": "code",
   "execution_count": null,
   "metadata": {},
   "outputs": [],
   "source": [
    "sig_d_2D = az.make_azim_distri(\n",
    "    r,\n",
    "    Y,\n",
    "    A,\n",
    "    T,\n",
    "    sig_g_2D,\n",
    "    sig_d,\n",
    "    alpha,\n",
    "    v_frag,\n",
    "    rho_s,\n",
    "    M_star,\n",
    ")"
   ]
  },
  {
   "cell_type": "markdown",
   "metadata": {},
   "source": [
    "### Plot the azimuthal distribution of grains"
   ]
  },
  {
   "cell_type": "code",
   "execution_count": null,
   "metadata": {},
   "outputs": [],
   "source": [
    "f, ax = plt.subplots()\n",
    "\n",
    "y = Y[0, :] / r * 180 / np.pi # azimuthal grid in degree\n",
    "\n",
    "ax.plot(y, sig_g_2D[0, :] / 100, 'k-', label='gas / 100')\n",
    "\n",
    "for ia in np.arange(na)[::na//6]:\n",
    "    ax.plot(y, sig_d_2D[0, :, ia], 'x-', label=f'{A[ia]:.2g} cm')\n",
    "\n",
    "ax.set_xlim(-45, 45)\n",
    "ax.set_xlabel('azimuth [degree]')\n",
    "ax.set_ylabel('$\\Sigma_\\mathrm{d}$ [g cm$^{-2}$]')\n",
    "ax.legend();"
   ]
  },
  {
   "cell_type": "markdown",
   "metadata": {},
   "source": [
    "### Plot the particle size distribution"
   ]
  },
  {
   "cell_type": "code",
   "execution_count": null,
   "metadata": {},
   "outputs": [],
   "source": [
    "distri = sig_d_2D[0, :, :].mean(0)\n",
    "\n",
    "f, ax = plt.subplots()\n",
    "\n",
    "ax.loglog(A, distri)\n",
    "ax.set_ylim(distri.max() * 1e-5, 2 * distri.max())\n",
    "ax.set_xlabel('particle size [cm]')\n",
    "ax.set_ylabel('$\\sigma$ [g cm$^{-2}$]');"
   ]
  },
  {
   "cell_type": "markdown",
   "metadata": {},
   "source": [
    "### Read opacity and interpolate on our grid"
   ]
  },
  {
   "cell_type": "code",
   "execution_count": null,
   "metadata": {},
   "outputs": [],
   "source": [
    "lam_obs = 0.13 # our obervational wavelength"
   ]
  },
  {
   "cell_type": "code",
   "execution_count": null,
   "metadata": {},
   "outputs": [],
   "source": [
    "import dsharp_opac as op\n",
    "from scipy.interpolate import interp2d"
   ]
  },
  {
   "cell_type": "code",
   "execution_count": null,
   "metadata": {},
   "outputs": [],
   "source": [
    "with np.load(op.get_datafile('default_opacities_smooth.npz')) as fid:\n",
    "    a_opac   = fid['a']\n",
    "    lam_opac = fid['lam']\n",
    "    k_abs    = fid['k_abs']\n",
    "    k_sca    = fid['k_sca']\n",
    "    g        = fid['g']\n",
    "    rho_s    = fid['rho_s']\n",
    "\n",
    "f_kappa = interp2d(np.log10(lam_opac), np.log10(a_opac), np.log10(k_abs))\n",
    "k_a = 10.**f_kappa(np.log10(lam_obs), np.log10(A))"
   ]
  },
  {
   "cell_type": "code",
   "execution_count": null,
   "metadata": {},
   "outputs": [],
   "source": [
    "f, ax = plt.subplots()\n",
    "ax.loglog(A, k_a)\n",
    "ax.set_xlabel('particle size [cm]')\n",
    "ax.set_ylabel('$\\kappa_\\mathrm{abs}$ [cm$^2$/g]')\n",
    "ax.set_title(f'opacity at {10 * lam_obs:.2g} mm');"
   ]
  },
  {
   "cell_type": "markdown",
   "metadata": {},
   "source": [
    "### Calculate intensity profile"
   ]
  }
 ],
 "metadata": {
  "kernelspec": {
   "display_name": "Python 3",
   "language": "python",
   "name": "python3"
  },
  "language_info": {
   "codemirror_mode": {
    "name": "ipython",
    "version": 3
   },
   "file_extension": ".py",
   "mimetype": "text/x-python",
   "name": "python",
   "nbconvert_exporter": "python",
   "pygments_lexer": "ipython3",
   "version": "3.7.4"
  }
 },
 "nbformat": 4,
 "nbformat_minor": 4
}
