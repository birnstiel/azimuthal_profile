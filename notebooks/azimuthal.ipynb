{
 "cells": [
  {
   "cell_type": "markdown",
   "metadata": {},
   "source": [
    "## Azimuthal Dust Profiles"
   ]
  },
  {
   "cell_type": "code",
   "execution_count": null,
   "metadata": {},
   "outputs": [],
   "source": [
    "import numpy as np\n",
    "import matplotlib.pyplot as plt\n",
    "import astropy.constants as c\n",
    "import astropy.units as u\n",
    "import argparse\n",
    "\n",
    "import azimuthal_profile as az\n",
    "import dsharp_opac as op\n",
    "from scipy.interpolate import interp2d\n",
    "\n",
    "if az.is_interactive():\n",
    "    get_ipython().run_line_magic('matplotlib', 'inline')\n",
    "\n",
    "au = c.au.cgs.value\n",
    "c_light = c.c.cgs.value\n",
    "jy_as = (1. * u.Jy / u.arcsec).cgs.value"
   ]
  },
  {
   "cell_type": "code",
   "execution_count": null,
   "metadata": {},
   "outputs": [],
   "source": [
    "RTHF   = argparse.RawTextHelpFormatter\n",
    "PARSER = argparse.ArgumentParser(description='Code to calcuate azimuthal equilibrium size distributions based on Birnstiel et al. 2013.', formatter_class=RTHF)\n",
    "PARSER.add_argument('-p', '--do-plots', help='produce plots', action='store_true', default=False)\n",
    "PARSER.add_argument('-r', '--rplot', help='at which radius (in au) to make plots', type=float, default=100.)\n",
    "PARSER.add_argument('-o', '--output', help='file name for output', default='modeloutput.txt', type=str)\n",
    "\n",
    "PARSER.add_argument('--agas', help='gas azimuthal contrast', type=float, default=1.2)\n",
    "PARSER.add_argument('--d2g', help='dust-to-gas mass ratio', type=float, default=0.01)\n",
    "PARSER.add_argument('--alpha', help='turbulence parameter', type=float, default=0.001)\n",
    "PARSER.add_argument('--sigc', help='gas density scale', type=float, default=100.)\n",
    "PARSER.add_argument('--v-frag', help='fragmentation velocity', type=float, default=1000.)\n",
    "PARSER.add_argument('--sigma-y', help='azimuthal bump extend in degree', type=float, default=10.)\n",
    "PARSER.add_argument('--a-max', help='maximum particle size\\n- can be a float (a_max in cm)\\n- \"None\" makes B11 size distribution\\n- can also evaluate expressions like, 0.1 * 100 * au /r', default=None)\n",
    "\n",
    "if not az.is_interactive():\n",
    "    ARGS  = PARSER.parse_args()\n",
    "else:\n",
    "    ARGS  = PARSER.parse_args([])\n",
    "    print('interactive -> using default arguments')"
   ]
  },
  {
   "cell_type": "markdown",
   "metadata": {},
   "source": [
    "### Set up model parameters of a radial gas profile"
   ]
  },
  {
   "cell_type": "code",
   "execution_count": null,
   "metadata": {},
   "outputs": [],
   "source": [
    "na          = 100\n",
    "ny          = 400\n",
    "rho_s       = 1.67\n",
    "\n",
    "sigma_y_deg = ARGS.sigma_y     # azimuthal bump extent in degree\n",
    "A_gas       = ARGS.agas    # gas density contrast (peak-to-valley)\n",
    "d2g         = ARGS.d2g\n",
    "alpha       = ARGS.alpha\n",
    "v_frag      = ARGS.v_frag\n",
    "sigc        = ARGS.sigc\n",
    "M_star      = c.M_sun.cgs.value\n",
    "r_plot      = ARGS.rplot * au  # at which radius to create the plots\n",
    "do_plot     = ARGS.do_plots  # to plot or not to plot\n",
    "\n",
    "sigma_y = sigma_y_deg / 180 * np.pi\n",
    "r       = np.arange(5, 400, 5) * au  # radial grid\n",
    "Y       = r[:, None] * np.linspace(- np.pi, np.pi, ny)  # azimuth grid\n",
    "sig_g   = sigc / (r / au)                     # avg. gas surface density\n",
    "sig_d   = d2g * sig_g\n",
    "\n",
    "# maximum particle size, which can be\n",
    "# float: same maximum particle size everywhere\n",
    "# array: different particle size at every radius\n",
    "# None: will construct fragmentation/coagulation size distribution\n",
    "\n",
    "a_max   = ARGS.a_max\n",
    "\n",
    "if type(ARGS.a_max) is str:\n",
    "    try:\n",
    "        a_max = float(a_max)\n",
    "        print(f'using a_max = {a_max:.3g}')\n",
    "    except:\n",
    "        print('evaluating a_max function')\n",
    "        a_max = eval(a_max)\n",
    "\n",
    "# size grid: at least to a_max or 10 if a_max is none\n",
    "if a_max is None:\n",
    "    A = np.logspace(-5, 1, na)\n",
    "else:\n",
    "    A = np.logspace(-5, np.log10(np.max(a_max)), na)\n",
    "\n",
    "# Nienke: temperature has minor influence, so changes due to changes\n",
    "# in R is primarily due to sigma_gas, which is scaled with R => change sig_c\n",
    "T       = 200 * (r / au)**-0.5\n",
    "\n",
    "sig_g_2D = 1 + (A_gas - 1) * np.exp(- Y**2 / ((2 * (r * sigma_y))**2)[:, None])\n",
    "sig_g_2D *= (sig_g / sig_g_2D.mean(-1))[:, None]"
   ]
  },
  {
   "cell_type": "markdown",
   "metadata": {},
   "source": [
    "### Get the equilibrium dust distribution"
   ]
  },
  {
   "cell_type": "code",
   "execution_count": null,
   "metadata": {},
   "outputs": [],
   "source": [
    "if a_max is not None:\n",
    "    print('a_max given -> making MRN size distribution')\n",
    "\n",
    "    # make an MRN distribution up to a_max\n",
    "\n",
    "    distri = A[None, :]**0.5 * np.ones([len(r), 1])\n",
    "    mask = A[None, :] > (a_max * np.ones_like(r))[:, None]\n",
    "    distri[mask] = 1e-100\n",
    "    distri *= (sig_d / distri.sum(-1))[:, None]\n",
    "    distri = distri.T\n",
    "\n",
    "    if do_plot:\n",
    "        f, ax = plt.subplots()\n",
    "        ax.pcolormesh(r / au, A, np.log10(distri + 1e-10))\n",
    "        ax.set_xscale('log')\n",
    "        ax.set_yscale('log')\n",
    "        ax.set_title('size distribution')\n",
    "        ax.set_xlabel('$r$ [au]')\n",
    "        ax.set_ylabel('paraticle size [cm]')\n",
    "        f.savefig('size_distribution.pdf', transparent=True)\n",
    "else:\n",
    "    print('no a_max given -> using equilibrium size distribution')\n",
    "    distri = sig_d.copy()"
   ]
  },
  {
   "cell_type": "code",
   "execution_count": null,
   "metadata": {},
   "outputs": [],
   "source": [
    "sig_d_2D = az.make_azim_distri(\n",
    "    r,\n",
    "    Y,\n",
    "    A,\n",
    "    T,\n",
    "    sig_g_2D,\n",
    "    distri,\n",
    "    alpha,\n",
    "    v_frag,\n",
    "    rho_s,\n",
    "    M_star,\n",
    "    )"
   ]
  },
  {
   "cell_type": "markdown",
   "metadata": {},
   "source": [
    "### Plot the azimuthal distribution of grains"
   ]
  },
  {
   "cell_type": "code",
   "execution_count": null,
   "metadata": {},
   "outputs": [],
   "source": [
    "if do_plot:\n",
    "    ir = r.searchsorted(r_plot)\n",
    "\n",
    "    f, ax = plt.subplots()\n",
    "\n",
    "    y = Y[ir, :] / r[ir] * 180 / np.pi  # azimuthal grid in degree\n",
    "\n",
    "    ax.plot(y, sig_g_2D[ir, :] / 100, 'k-', label='gas / 100')\n",
    "\n",
    "    for ia in np.arange(na)[::na // 6]:\n",
    "        ax.plot(y, sig_d_2D[ir, :, ia], 'x-', label=f'{A[ia]:.2g} cm')\n",
    "\n",
    "    ax.set_xlim(-45, 45)\n",
    "    ax.set_xlabel('azimuth [degree]')\n",
    "    ax.set_ylabel(r'$\\Sigma_\\mathrm{d}$ [g cm$^{-2}$]')\n",
    "    ax.set_title(f'at {r[ir] / au:.2f} au')\n",
    "    ax.legend()\n",
    "    f.savefig('azimuthal_density.pdf', transparent=True)"
   ]
  },
  {
   "cell_type": "markdown",
   "metadata": {},
   "source": [
    "### Plot the contrast as function of particle size"
   ]
  },
  {
   "cell_type": "code",
   "execution_count": null,
   "metadata": {},
   "outputs": [],
   "source": [
    "if do_plot:\n",
    "    ir = r.searchsorted(r_plot)\n",
    "\n",
    "    St = A * rho_s * np.pi / (2. * sig_g[ir])\n",
    "    A_d = sig_d_2D.max(-2)[ir, :] / sig_d_2D.min(-2)[ir, :]\n",
    "    A_d_ana = A_gas * np.exp(St * (A_gas - 1) / (A_gas * alpha))\n",
    "\n",
    "    mask = sig_d_2D[ir].mean(0) > 1e-10\n",
    "\n",
    "    f, ax = plt.subplots()\n",
    "    ax.loglog(St[mask], A_d[mask], label='from profile')\n",
    "    ax.loglog(St, A_d_ana, 'k--', label='analytical')\n",
    "\n",
    "    ax.set_xlabel('Stokes number')\n",
    "    ax.set_ylabel('Dust contrast')\n",
    "    ax.set_title(f'at {r[ir] / au:.2f} au')\n",
    "    ax.legend()\n",
    "    ax.set_ylim(1e0, 1e10)\n",
    "    f.savefig('contrast_curve.pdf', transparent=True)"
   ]
  },
  {
   "cell_type": "markdown",
   "metadata": {},
   "source": [
    "### Plot the particle size distribution"
   ]
  },
  {
   "cell_type": "code",
   "execution_count": null,
   "metadata": {},
   "outputs": [],
   "source": [
    "if do_plot:\n",
    "    ir = r.searchsorted(r_plot)\n",
    "\n",
    "    distri = sig_d_2D[ir, :, :].mean(0)\n",
    "\n",
    "    f, ax = plt.subplots()\n",
    "\n",
    "    ax.loglog(A, distri)\n",
    "    ax.set_ylim(distri.max() * 1e-5, 2 * distri.max())\n",
    "    ax.set_xlabel('particle size [cm]')\n",
    "    ax.set_title(f'at {r[ir] / au:.2f} au')\n",
    "    ax.set_ylabel(r'$\\sigma$ [g cm$^{-2}$]')\n",
    "    f.savefig('size_distri_slice.pdf', transparent=True)"
   ]
  },
  {
   "cell_type": "markdown",
   "metadata": {},
   "source": [
    "### Read opacity and interpolate on our grid"
   ]
  },
  {
   "cell_type": "code",
   "execution_count": null,
   "metadata": {},
   "outputs": [],
   "source": [
    "lam_obs = np.array([0.13, 0.9])  # our obervational wavelength\n",
    "n_lam = len(lam_obs)\n",
    "nu_obs  = c_light / lam_obs"
   ]
  },
  {
   "cell_type": "code",
   "execution_count": null,
   "metadata": {},
   "outputs": [],
   "source": [
    "with np.load(op.get_datafile('default_opacities_smooth.npz')) as fid:\n",
    "    a_opac   = fid['a']\n",
    "    lam_opac = fid['lam']\n",
    "    k_abs    = fid['k_abs']\n",
    "    k_sca    = fid['k_sca']\n",
    "    g        = fid['g']\n",
    "    rho_s    = fid['rho_s']\n",
    "\n",
    "f_kappa = interp2d(np.log10(lam_opac), np.log10(a_opac), np.log10(k_abs))\n",
    "k_a = 10.**f_kappa(np.log10(lam_obs), np.log10(A))"
   ]
  },
  {
   "cell_type": "code",
   "execution_count": null,
   "metadata": {},
   "outputs": [],
   "source": [
    "if do_plot:\n",
    "    f, ax = plt.subplots()\n",
    "    for ilam in range(n_lam):\n",
    "        ax.loglog(A, k_a[:, ilam], label=f'$\\\\lambda = {10 * lam_obs[ilam]:.2g}$ mm')\n",
    "    ax.set_xlabel('particle size [cm]')\n",
    "    ax.set_ylabel('$\\\\kappa_\\\\mathrm{abs}$ [cm$^2$/g]')\n",
    "    ax.legend()\n",
    "    f.savefig('opacity.pdf', transparent=True)"
   ]
  },
  {
   "cell_type": "markdown",
   "metadata": {},
   "source": [
    "### Calculate intensity profile"
   ]
  },
  {
   "cell_type": "code",
   "execution_count": null,
   "metadata": {},
   "outputs": [],
   "source": [
    "# B_nu has shape (n_wavelength, n_radii)\n",
    "# tau and I_nu should have shape (n_wavelength, n_radii, n_azimuth)\n",
    "B_nu = az.planck_B_nu(nu_obs, T).T\n",
    "tau = (sig_d_2D[None, ...] * k_a.T[:, None, None, :]).sum(-1)\n",
    "I_nu = B_nu[:, :, None] * (1 - np.exp(-tau))"
   ]
  },
  {
   "cell_type": "code",
   "execution_count": null,
   "metadata": {},
   "outputs": [],
   "source": [
    "if do_plot:\n",
    "    ir = r.searchsorted(r_plot)\n",
    "\n",
    "    f, ax = plt.subplots()\n",
    "\n",
    "    for ilam in range(n_lam):\n",
    "        print(f'Intensity contrast (max/min) at {10 * lam_obs[ilam]:3.1f} mm = {I_nu[ilam, ir, :].max()/I_nu[ilam, ir, :].min():.3g}')\n",
    "\n",
    "        ax.semilogy(y, I_nu[ilam, ir, :] / jy_as, label=f'$\\\\lambda = {10 * lam_obs[ilam]:3.1f}$ mm')\n",
    "\n",
    "    ax.set_xlabel('azimuth [degree]')\n",
    "    ax.set_ylabel('$I_\\\\nu$ [Jy/arsec]')\n",
    "    ax.set_title(f'at {r[ir] / au:.2f} au')\n",
    "    ax.legend()\n",
    "    f.savefig('intensity_profiles.pdf', transparent=True)"
   ]
  },
  {
   "cell_type": "markdown",
   "metadata": {},
   "source": [
    "## Create output"
   ]
  },
  {
   "cell_type": "code",
   "execution_count": null,
   "metadata": {},
   "outputs": [],
   "source": [
    "with open(ARGS.output, 'w') as f:\n",
    "    f.write(f'# Model with Agas={A_gas:.3g}, alpha={alpha:.3g}, d2g={d2g:.3g}, Sigc={sigc:.3g}, amax={ARGS.a_max}\\n')\n",
    "    f.write('# Radius  \\tSiggas(R)  \\tContrastmm  \\tContrastcm \\n')\n",
    "    np.savetxt(f, np.vstack((r / au, sig_g, I_nu.max(-1) / I_nu.min(-1))).T, delimiter='\\t', fmt='%2.2e')"
   ]
  }
 ],
 "metadata": {
  "kernelspec": {
   "display_name": "Python 3",
   "language": "python",
   "name": "python3"
  },
  "language_info": {
   "codemirror_mode": {
    "name": "ipython",
    "version": 3
   },
   "file_extension": ".py",
   "mimetype": "text/x-python",
   "name": "python",
   "nbconvert_exporter": "python",
   "pygments_lexer": "ipython3",
   "version": "3.7.4"
  }
 },
 "nbformat": 4,
 "nbformat_minor": 4
}
